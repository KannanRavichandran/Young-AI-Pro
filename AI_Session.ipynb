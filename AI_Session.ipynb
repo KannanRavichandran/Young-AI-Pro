{
  "nbformat": 4,
  "nbformat_minor": 0,
  "metadata": {
    "colab": {
      "provenance": [],
      "authorship_tag": "ABX9TyPEDwMclQudHPBhPjX/1DV1",
      "include_colab_link": true
    },
    "kernelspec": {
      "name": "python3",
      "display_name": "Python 3"
    },
    "language_info": {
      "name": "python"
    }
  },
  "cells": [
    {
      "cell_type": "markdown",
      "metadata": {
        "id": "view-in-github",
        "colab_type": "text"
      },
      "source": [
        "<a href=\"https://colab.research.google.com/github/KannanRavichandran/Young-AI-Pro/blob/main/AI_Session.ipynb\" target=\"_parent\"><img src=\"https://colab.research.google.com/assets/colab-badge.svg\" alt=\"Open In Colab\"/></a>"
      ]
    },
    {
      "cell_type": "code",
      "execution_count": 1,
      "metadata": {
        "id": "t8xt0BCVPsKc"
      },
      "outputs": [],
      "source": [
        "! pip  -q install kaggle"
      ]
    },
    {
      "cell_type": "code",
      "source": [
        "from google.colab import userdata\n",
        "from os import environ\n",
        "\n",
        "environ['KAGGLE_KEY'] =userdata.get('KAGGLE_KEY')\n",
        "environ['KAGGLE_USERNAME'] =userdata.get('KAGGLE_USERNAME')\n",
        "\n",
        "! pip  -q install kaggle\n",
        "! kaggle competitions download -c house-prices-advanced-regression-techniques\n",
        "! unzip /content/house-prices-advanced-regression-techniques.zip\n"
      ],
      "metadata": {
        "colab": {
          "base_uri": "https://localhost:8080/"
        },
        "id": "Z3iSIBSHTOi0",
        "outputId": "c77a142d-9f9e-47b8-e1fb-23b60e7bce77"
      },
      "execution_count": 5,
      "outputs": [
        {
          "output_type": "stream",
          "name": "stdout",
          "text": [
            "Downloading house-prices-advanced-regression-techniques.zip to /content\n",
            "100% 199k/199k [00:00<00:00, 540kB/s]\n",
            "100% 199k/199k [00:00<00:00, 539kB/s]\n",
            "Archive:  /content/house-prices-advanced-regression-techniques.zip\n",
            "  inflating: data_description.txt    \n",
            "  inflating: sample_submission.csv   \n",
            "  inflating: test.csv                \n",
            "  inflating: train.csv               \n"
          ]
        }
      ]
    }
  ]
}